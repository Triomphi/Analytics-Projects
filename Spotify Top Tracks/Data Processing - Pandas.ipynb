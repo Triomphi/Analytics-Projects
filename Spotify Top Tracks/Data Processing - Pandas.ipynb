{
 "cells": [
  {
   "cell_type": "code",
   "execution_count": 1,
   "metadata": {},
   "outputs": [],
   "source": [
    "import pandas as pd\n",
    "import matplotlib.pyplot as plt\n",
    "import seaborn as sns"
   ]
  },
  {
   "cell_type": "code",
   "execution_count": 2,
   "metadata": {},
   "outputs": [],
   "source": [
    "data = pd.read_csv('spotifytoptracks.csv')\n",
    "df = data.copy()"
   ]
  },
  {
   "cell_type": "code",
   "execution_count": null,
   "metadata": {},
   "outputs": [],
   "source": [
    "pd.set_option(\"max_row\", None)    # show all rows"
   ]
  },
  {
   "cell_type": "code",
   "execution_count": 4,
   "metadata": {},
   "outputs": [
    {
     "data": {
      "text/html": [
       "<div>\n",
       "<style scoped>\n",
       "    .dataframe tbody tr th:only-of-type {\n",
       "        vertical-align: middle;\n",
       "    }\n",
       "\n",
       "    .dataframe tbody tr th {\n",
       "        vertical-align: top;\n",
       "    }\n",
       "\n",
       "    .dataframe thead th {\n",
       "        text-align: right;\n",
       "    }\n",
       "</style>\n",
       "<table border=\"1\" class=\"dataframe\">\n",
       "  <thead>\n",
       "    <tr style=\"text-align: right;\">\n",
       "      <th></th>\n",
       "      <th>Unnamed: 0</th>\n",
       "      <th>artist</th>\n",
       "      <th>album</th>\n",
       "      <th>track_name</th>\n",
       "      <th>track_id</th>\n",
       "      <th>energy</th>\n",
       "      <th>danceability</th>\n",
       "      <th>key</th>\n",
       "      <th>loudness</th>\n",
       "      <th>acousticness</th>\n",
       "      <th>speechiness</th>\n",
       "      <th>instrumentalness</th>\n",
       "      <th>liveness</th>\n",
       "      <th>valence</th>\n",
       "      <th>tempo</th>\n",
       "      <th>duration_ms</th>\n",
       "      <th>genre</th>\n",
       "    </tr>\n",
       "  </thead>\n",
       "  <tbody>\n",
       "    <tr>\n",
       "      <th>0</th>\n",
       "      <td>0</td>\n",
       "      <td>The Weeknd</td>\n",
       "      <td>After Hours</td>\n",
       "      <td>Blinding Lights</td>\n",
       "      <td>0VjIjW4GlUZAMYd2vXMi3b</td>\n",
       "      <td>0.730</td>\n",
       "      <td>0.514</td>\n",
       "      <td>1</td>\n",
       "      <td>-5.934</td>\n",
       "      <td>0.00146</td>\n",
       "      <td>0.0598</td>\n",
       "      <td>0.000095</td>\n",
       "      <td>0.0897</td>\n",
       "      <td>0.334</td>\n",
       "      <td>171.005</td>\n",
       "      <td>200040</td>\n",
       "      <td>R&amp;B/Soul</td>\n",
       "    </tr>\n",
       "    <tr>\n",
       "      <th>1</th>\n",
       "      <td>1</td>\n",
       "      <td>Tones And I</td>\n",
       "      <td>Dance Monkey</td>\n",
       "      <td>Dance Monkey</td>\n",
       "      <td>1rgnBhdG2JDFTbYkYRZAku</td>\n",
       "      <td>0.593</td>\n",
       "      <td>0.825</td>\n",
       "      <td>6</td>\n",
       "      <td>-6.401</td>\n",
       "      <td>0.68800</td>\n",
       "      <td>0.0988</td>\n",
       "      <td>0.000161</td>\n",
       "      <td>0.1700</td>\n",
       "      <td>0.540</td>\n",
       "      <td>98.078</td>\n",
       "      <td>209755</td>\n",
       "      <td>Alternative/Indie</td>\n",
       "    </tr>\n",
       "    <tr>\n",
       "      <th>2</th>\n",
       "      <td>2</td>\n",
       "      <td>Roddy Ricch</td>\n",
       "      <td>Please Excuse Me For Being Antisocial</td>\n",
       "      <td>The Box</td>\n",
       "      <td>0nbXyq5TXYPCO7pr3N8S4I</td>\n",
       "      <td>0.586</td>\n",
       "      <td>0.896</td>\n",
       "      <td>10</td>\n",
       "      <td>-6.687</td>\n",
       "      <td>0.10400</td>\n",
       "      <td>0.0559</td>\n",
       "      <td>0.000000</td>\n",
       "      <td>0.7900</td>\n",
       "      <td>0.642</td>\n",
       "      <td>116.971</td>\n",
       "      <td>196653</td>\n",
       "      <td>Hip-Hop/Rap</td>\n",
       "    </tr>\n",
       "    <tr>\n",
       "      <th>3</th>\n",
       "      <td>3</td>\n",
       "      <td>SAINt JHN</td>\n",
       "      <td>Roses (Imanbek Remix)</td>\n",
       "      <td>Roses - Imanbek Remix</td>\n",
       "      <td>2Wo6QQD1KMDWeFkkjLqwx5</td>\n",
       "      <td>0.721</td>\n",
       "      <td>0.785</td>\n",
       "      <td>8</td>\n",
       "      <td>-5.457</td>\n",
       "      <td>0.01490</td>\n",
       "      <td>0.0506</td>\n",
       "      <td>0.004320</td>\n",
       "      <td>0.2850</td>\n",
       "      <td>0.894</td>\n",
       "      <td>121.962</td>\n",
       "      <td>176219</td>\n",
       "      <td>Dance/Electronic</td>\n",
       "    </tr>\n",
       "    <tr>\n",
       "      <th>4</th>\n",
       "      <td>4</td>\n",
       "      <td>Dua Lipa</td>\n",
       "      <td>Future Nostalgia</td>\n",
       "      <td>Don't Start Now</td>\n",
       "      <td>3PfIrDoz19wz7qK7tYeu62</td>\n",
       "      <td>0.793</td>\n",
       "      <td>0.793</td>\n",
       "      <td>11</td>\n",
       "      <td>-4.521</td>\n",
       "      <td>0.01230</td>\n",
       "      <td>0.0830</td>\n",
       "      <td>0.000000</td>\n",
       "      <td>0.0951</td>\n",
       "      <td>0.679</td>\n",
       "      <td>123.950</td>\n",
       "      <td>183290</td>\n",
       "      <td>Nu-disco</td>\n",
       "    </tr>\n",
       "  </tbody>\n",
       "</table>\n",
       "</div>"
      ],
      "text/plain": [
       "   Unnamed: 0       artist                                  album  \\\n",
       "0           0   The Weeknd                            After Hours   \n",
       "1           1  Tones And I                           Dance Monkey   \n",
       "2           2  Roddy Ricch  Please Excuse Me For Being Antisocial   \n",
       "3           3    SAINt JHN                  Roses (Imanbek Remix)   \n",
       "4           4     Dua Lipa                       Future Nostalgia   \n",
       "\n",
       "              track_name                track_id  energy  danceability  key  \\\n",
       "0        Blinding Lights  0VjIjW4GlUZAMYd2vXMi3b   0.730         0.514    1   \n",
       "1           Dance Monkey  1rgnBhdG2JDFTbYkYRZAku   0.593         0.825    6   \n",
       "2                The Box  0nbXyq5TXYPCO7pr3N8S4I   0.586         0.896   10   \n",
       "3  Roses - Imanbek Remix  2Wo6QQD1KMDWeFkkjLqwx5   0.721         0.785    8   \n",
       "4        Don't Start Now  3PfIrDoz19wz7qK7tYeu62   0.793         0.793   11   \n",
       "\n",
       "   loudness  acousticness  speechiness  instrumentalness  liveness  valence  \\\n",
       "0    -5.934       0.00146       0.0598          0.000095    0.0897    0.334   \n",
       "1    -6.401       0.68800       0.0988          0.000161    0.1700    0.540   \n",
       "2    -6.687       0.10400       0.0559          0.000000    0.7900    0.642   \n",
       "3    -5.457       0.01490       0.0506          0.004320    0.2850    0.894   \n",
       "4    -4.521       0.01230       0.0830          0.000000    0.0951    0.679   \n",
       "\n",
       "     tempo  duration_ms              genre  \n",
       "0  171.005       200040           R&B/Soul  \n",
       "1   98.078       209755  Alternative/Indie  \n",
       "2  116.971       196653        Hip-Hop/Rap  \n",
       "3  121.962       176219   Dance/Electronic  \n",
       "4  123.950       183290           Nu-disco  "
      ]
     },
     "execution_count": 4,
     "metadata": {},
     "output_type": "execute_result"
    }
   ],
   "source": [
    "df.head()"
   ]
  },
  {
   "cell_type": "code",
   "execution_count": 5,
   "metadata": {},
   "outputs": [],
   "source": [
    "df.rename(columns={\"Unnamed: 0\": \"S/N\"}, inplace= True) # rename the first column"
   ]
  },
  {
   "cell_type": "code",
   "execution_count": 6,
   "metadata": {},
   "outputs": [
    {
     "name": "stdout",
     "output_type": "stream",
     "text": [
      "<class 'pandas.core.frame.DataFrame'>\n",
      "RangeIndex: 50 entries, 0 to 49\n",
      "Data columns (total 17 columns):\n",
      " #   Column            Non-Null Count  Dtype  \n",
      "---  ------            --------------  -----  \n",
      " 0   S/N               50 non-null     int64  \n",
      " 1   artist            50 non-null     object \n",
      " 2   album             50 non-null     object \n",
      " 3   track_name        50 non-null     object \n",
      " 4   track_id          50 non-null     object \n",
      " 5   energy            50 non-null     float64\n",
      " 6   danceability      50 non-null     float64\n",
      " 7   key               50 non-null     int64  \n",
      " 8   loudness          50 non-null     float64\n",
      " 9   acousticness      50 non-null     float64\n",
      " 10  speechiness       50 non-null     float64\n",
      " 11  instrumentalness  50 non-null     float64\n",
      " 12  liveness          50 non-null     float64\n",
      " 13  valence           50 non-null     float64\n",
      " 14  tempo             50 non-null     float64\n",
      " 15  duration_ms       50 non-null     int64  \n",
      " 16  genre             50 non-null     object \n",
      "dtypes: float64(9), int64(3), object(5)\n",
      "memory usage: 6.8+ KB\n"
     ]
    }
   ],
   "source": [
    "df.info()"
   ]
  },
  {
   "cell_type": "code",
   "execution_count": 7,
   "metadata": {},
   "outputs": [
    {
     "name": "stdout",
     "output_type": "stream",
     "text": [
      "0 duplicate rows\n"
     ]
    }
   ],
   "source": [
    "duplicate_rows = df.duplicated().sum()      # check for duplicate rows\n",
    "print(f\"{duplicate_rows} duplicate rows\")"
   ]
  },
  {
   "cell_type": "code",
   "execution_count": 8,
   "metadata": {},
   "outputs": [
    {
     "name": "stdout",
     "output_type": "stream",
     "text": [
      "0 duplicate columns\n"
     ]
    }
   ],
   "source": [
    "duplicate_cols = df.columns.duplicated().sum()      # check for duplicate columns\n",
    "print(f\"{duplicate_cols} duplicate columns\")"
   ]
  },
  {
   "cell_type": "code",
   "execution_count": 9,
   "metadata": {},
   "outputs": [
    {
     "data": {
      "text/html": [
       "<div>\n",
       "<style scoped>\n",
       "    .dataframe tbody tr th:only-of-type {\n",
       "        vertical-align: middle;\n",
       "    }\n",
       "\n",
       "    .dataframe tbody tr th {\n",
       "        vertical-align: top;\n",
       "    }\n",
       "\n",
       "    .dataframe thead th {\n",
       "        text-align: right;\n",
       "    }\n",
       "</style>\n",
       "<table border=\"1\" class=\"dataframe\">\n",
       "  <thead>\n",
       "    <tr style=\"text-align: right;\">\n",
       "      <th></th>\n",
       "      <th>S/N</th>\n",
       "      <th>energy</th>\n",
       "      <th>danceability</th>\n",
       "      <th>key</th>\n",
       "      <th>loudness</th>\n",
       "      <th>acousticness</th>\n",
       "      <th>speechiness</th>\n",
       "      <th>instrumentalness</th>\n",
       "      <th>liveness</th>\n",
       "      <th>valence</th>\n",
       "      <th>tempo</th>\n",
       "      <th>duration_ms</th>\n",
       "    </tr>\n",
       "  </thead>\n",
       "  <tbody>\n",
       "    <tr>\n",
       "      <th>count</th>\n",
       "      <td>50.00000</td>\n",
       "      <td>50.000000</td>\n",
       "      <td>50.000000</td>\n",
       "      <td>50.000000</td>\n",
       "      <td>50.000000</td>\n",
       "      <td>50.000000</td>\n",
       "      <td>50.000000</td>\n",
       "      <td>50.000000</td>\n",
       "      <td>50.000000</td>\n",
       "      <td>50.000000</td>\n",
       "      <td>50.000000</td>\n",
       "      <td>50.000000</td>\n",
       "    </tr>\n",
       "    <tr>\n",
       "      <th>mean</th>\n",
       "      <td>24.50000</td>\n",
       "      <td>0.609300</td>\n",
       "      <td>0.716720</td>\n",
       "      <td>5.720000</td>\n",
       "      <td>-6.225900</td>\n",
       "      <td>0.256206</td>\n",
       "      <td>0.124158</td>\n",
       "      <td>0.015962</td>\n",
       "      <td>0.196552</td>\n",
       "      <td>0.555710</td>\n",
       "      <td>119.690460</td>\n",
       "      <td>199955.360000</td>\n",
       "    </tr>\n",
       "    <tr>\n",
       "      <th>std</th>\n",
       "      <td>14.57738</td>\n",
       "      <td>0.154348</td>\n",
       "      <td>0.124975</td>\n",
       "      <td>3.709007</td>\n",
       "      <td>2.349744</td>\n",
       "      <td>0.265250</td>\n",
       "      <td>0.116836</td>\n",
       "      <td>0.094312</td>\n",
       "      <td>0.176610</td>\n",
       "      <td>0.216386</td>\n",
       "      <td>25.414778</td>\n",
       "      <td>33996.122488</td>\n",
       "    </tr>\n",
       "    <tr>\n",
       "      <th>min</th>\n",
       "      <td>0.00000</td>\n",
       "      <td>0.225000</td>\n",
       "      <td>0.351000</td>\n",
       "      <td>0.000000</td>\n",
       "      <td>-14.454000</td>\n",
       "      <td>0.001460</td>\n",
       "      <td>0.029000</td>\n",
       "      <td>0.000000</td>\n",
       "      <td>0.057400</td>\n",
       "      <td>0.060500</td>\n",
       "      <td>75.801000</td>\n",
       "      <td>140526.000000</td>\n",
       "    </tr>\n",
       "    <tr>\n",
       "      <th>25%</th>\n",
       "      <td>12.25000</td>\n",
       "      <td>0.494000</td>\n",
       "      <td>0.672500</td>\n",
       "      <td>2.000000</td>\n",
       "      <td>-7.552500</td>\n",
       "      <td>0.052800</td>\n",
       "      <td>0.048325</td>\n",
       "      <td>0.000000</td>\n",
       "      <td>0.093950</td>\n",
       "      <td>0.434000</td>\n",
       "      <td>99.557250</td>\n",
       "      <td>175845.500000</td>\n",
       "    </tr>\n",
       "    <tr>\n",
       "      <th>50%</th>\n",
       "      <td>24.50000</td>\n",
       "      <td>0.597000</td>\n",
       "      <td>0.746000</td>\n",
       "      <td>6.500000</td>\n",
       "      <td>-5.991500</td>\n",
       "      <td>0.188500</td>\n",
       "      <td>0.070050</td>\n",
       "      <td>0.000000</td>\n",
       "      <td>0.111000</td>\n",
       "      <td>0.560000</td>\n",
       "      <td>116.969000</td>\n",
       "      <td>197853.500000</td>\n",
       "    </tr>\n",
       "    <tr>\n",
       "      <th>75%</th>\n",
       "      <td>36.75000</td>\n",
       "      <td>0.729750</td>\n",
       "      <td>0.794500</td>\n",
       "      <td>8.750000</td>\n",
       "      <td>-4.285500</td>\n",
       "      <td>0.298750</td>\n",
       "      <td>0.155500</td>\n",
       "      <td>0.000020</td>\n",
       "      <td>0.271250</td>\n",
       "      <td>0.726250</td>\n",
       "      <td>132.317000</td>\n",
       "      <td>215064.000000</td>\n",
       "    </tr>\n",
       "    <tr>\n",
       "      <th>max</th>\n",
       "      <td>49.00000</td>\n",
       "      <td>0.855000</td>\n",
       "      <td>0.935000</td>\n",
       "      <td>11.000000</td>\n",
       "      <td>-3.280000</td>\n",
       "      <td>0.934000</td>\n",
       "      <td>0.487000</td>\n",
       "      <td>0.657000</td>\n",
       "      <td>0.792000</td>\n",
       "      <td>0.925000</td>\n",
       "      <td>180.067000</td>\n",
       "      <td>312820.000000</td>\n",
       "    </tr>\n",
       "  </tbody>\n",
       "</table>\n",
       "</div>"
      ],
      "text/plain": [
       "            S/N     energy  danceability        key   loudness  acousticness  \\\n",
       "count  50.00000  50.000000     50.000000  50.000000  50.000000     50.000000   \n",
       "mean   24.50000   0.609300      0.716720   5.720000  -6.225900      0.256206   \n",
       "std    14.57738   0.154348      0.124975   3.709007   2.349744      0.265250   \n",
       "min     0.00000   0.225000      0.351000   0.000000 -14.454000      0.001460   \n",
       "25%    12.25000   0.494000      0.672500   2.000000  -7.552500      0.052800   \n",
       "50%    24.50000   0.597000      0.746000   6.500000  -5.991500      0.188500   \n",
       "75%    36.75000   0.729750      0.794500   8.750000  -4.285500      0.298750   \n",
       "max    49.00000   0.855000      0.935000  11.000000  -3.280000      0.934000   \n",
       "\n",
       "       speechiness  instrumentalness   liveness    valence       tempo  \\\n",
       "count    50.000000         50.000000  50.000000  50.000000   50.000000   \n",
       "mean      0.124158          0.015962   0.196552   0.555710  119.690460   \n",
       "std       0.116836          0.094312   0.176610   0.216386   25.414778   \n",
       "min       0.029000          0.000000   0.057400   0.060500   75.801000   \n",
       "25%       0.048325          0.000000   0.093950   0.434000   99.557250   \n",
       "50%       0.070050          0.000000   0.111000   0.560000  116.969000   \n",
       "75%       0.155500          0.000020   0.271250   0.726250  132.317000   \n",
       "max       0.487000          0.657000   0.792000   0.925000  180.067000   \n",
       "\n",
       "         duration_ms  \n",
       "count      50.000000  \n",
       "mean   199955.360000  \n",
       "std     33996.122488  \n",
       "min    140526.000000  \n",
       "25%    175845.500000  \n",
       "50%    197853.500000  \n",
       "75%    215064.000000  \n",
       "max    312820.000000  "
      ]
     },
     "execution_count": 9,
     "metadata": {},
     "output_type": "execute_result"
    }
   ],
   "source": [
    "df.describe()"
   ]
  },
  {
   "cell_type": "markdown",
   "metadata": {},
   "source": [
    "## Handling Outliers\n",
    "The goal is to identify outliers in this dataset, but instead of treating the entire dataset uniformly, I group the tracks by genre and then identify outliers within each genre. This approach respects the genre-specific characteristics of music and avoids misclassifying outliers that might be normal for a particular genre."
   ]
  },
  {
   "cell_type": "code",
   "execution_count": 39,
   "metadata": {},
   "outputs": [
    {
     "data": {
      "image/png": "[encoded data removed]",
      "text/plain": [
       "<Figure size 576x432 with 1 Axes>"
      ]
     },
     "metadata": {
      "needs_background": "light"
     },
     "output_type": "display_data"
    },
    {
     "data": {
      "image/png": "[encoded data removed]",
      "text/plain": [
       "<Figure size 576x432 with 1 Axes>"
      ]
     },
     "metadata": {
      "needs_background": "light"
     },
     "output_type": "display_data"
    },
    {
     "data": {
      "image/png": "[encoded data removed]",
      "text/plain": [
       "<Figure size 576x432 with 1 Axes>"
      ]
     },
     "metadata": {
      "needs_background": "light"
     },
     "output_type": "display_data"
    },
    {
     "data": {
      "image/png": "[encoded data removed]",
      "text/plain": [
       "<Figure size 576x432 with 1 Axes>"
      ]
     },
     "metadata": {
      "needs_background": "light"
     },
     "output_type": "display_data"
    },
    {
     "data": {
      "image/png": "[encoded data removed]",
      "text/plain": [
       "<Figure size 576x432 with 1 Axes>"
      ]
     },
     "metadata": {
      "needs_background": "light"
     },
     "output_type": "display_data"
    },
    {
     "data": {
      "image/png": "[encoded data removed]",
      "text/plain": [
       "<Figure size 576x432 with 1 Axes>"
      ]
     },
     "metadata": {
      "needs_background": "light"
     },
     "output_type": "display_data"
    },
    {
     "data": {
      "image/png": "[encoded data removed]",
      "text/plain": [
       "<Figure size 576x432 with 1 Axes>"
      ]
     },
     "metadata": {
      "needs_background": "light"
     },
     "output_type": "display_data"
    },
    {
     "data": {
      "image/png": "[encoded data removed]",
      "text/plain": [
       "<Figure size 576x432 with 1 Axes>"
      ]
     },
     "metadata": {
      "needs_background": "light"
     },
     "output_type": "display_data"
    },
    {
     "data": {
      "image/png": "[encoded data removed]",
      "text/plain": [
       "<Figure size 576x432 with 1 Axes>"
      ]
     },
     "metadata": {
      "needs_background": "light"
     },
     "output_type": "display_data"
    },
    {
     "data": {
      "image/png": "[encoded data removed]",
      "text/plain": [
       "<Figure size 576x432 with 1 Axes>"
      ]
     },
     "metadata": {
      "needs_background": "light"
     },
     "output_type": "display_data"
    },
    {
     "data": {
      "image/png": "[encoded data removed]",
      "text/plain": [
       "<Figure size 576x432 with 1 Axes>"
      ]
     },
     "metadata": {
      "needs_background": "light"
     },
     "output_type": "display_data"
    }
   ],
   "source": [
    "# Select only numerical columns\n",
    "numeric_cols = df.select_dtypes(include=['float64', 'int64']).columns\n",
    "\n",
    "# Create a box plot for each numerical column\n",
    "for col in numeric_cols:\n",
    "    plt.figure(figsize=(8, 6))\n",
    "    sns.boxplot(data=df[col])\n",
    "    plt.title(f\"Box Plot for {col}\")\n",
    "    plt.show()"
   ]
  },
  {
   "cell_type": "code",
   "execution_count": null,
   "metadata": {},
   "outputs": [],
   "source": [
    "def detect_outliers_iqr(data):\n",
    "    Q1 = data.quantile(0.25)\n",
    "    Q3 = data.quantile(0.75)\n",
    "    IQR = Q3 - Q1\n",
    "    lower_bound = Q1 - 1.5 * IQR\n",
    "    upper_bound = Q3 + 1.5 * IQR\n",
    "    outliers = data[(data < lower_bound) | (data > upper_bound)]\n",
    "    return outliers\n",
    "\n",
    "# Group by genre and apply outlier detection to numerical columns\n",
    "for genre, group in df.groupby('genre'):\n",
    "    outliers = group[numeric_cols].apply(detect_outliers_iqr)\n",
    "    if outliers.isna().values.any():\n",
    "        print(f\"Outliers in {genre} genre:\")\n",
    "        print(f\"{outliers}\\n\")\n",
    "        #print(f\"{outliers.to_string(index=False)}\\n\")"
   ]
  },
  {
   "cell_type": "markdown",
   "metadata": {},
   "source": [
    "## Exploratory Data Analysis"
   ]
  },
  {
   "cell_type": "code",
   "execution_count": null,
   "metadata": {},
   "outputs": [
    {
     "name": "stdout",
     "output_type": "stream",
     "text": [
      "50 observations\n"
     ]
    }
   ],
   "source": [
    "# Number of observations in the dataset\n",
    "num_observations = df.shape[0]      \n",
    "print(f\"{num_observations} observations\")"
   ]
  },
  {
   "cell_type": "code",
   "execution_count": null,
   "metadata": {},
   "outputs": [
    {
     "name": "stdout",
     "output_type": "stream",
     "text": [
      "17 features\n"
     ]
    }
   ],
   "source": [
    "# Number of features in the dataset\n",
    "num_features = df.shape[1]  \n",
    "print(f\"{num_features} features\")"
   ]
  },
  {
   "cell_type": "code",
   "execution_count": null,
   "metadata": {},
   "outputs": [
    {
     "name": "stdout",
     "output_type": "stream",
     "text": [
      "Categorical features: ['artist', 'album', 'track_name', 'track_id', 'genre']\n"
     ]
    }
   ],
   "source": [
    "# Identify categorical features\n",
    "categorical_features = df.select_dtypes(include=['object']).columns.tolist()\n",
    "print(f\"Categorical features: {categorical_features}\")"
   ]
  },
  {
   "cell_type": "code",
   "execution_count": null,
   "metadata": {},
   "outputs": [
    {
     "name": "stdout",
     "output_type": "stream",
     "text": [
      "Numeric features: ['S/N', 'energy', 'danceability', 'key', 'loudness', 'acousticness', 'speechiness', 'instrumentalness', 'liveness', 'valence', 'tempo', 'duration_ms']\n"
     ]
    }
   ],
   "source": [
    "# Identify numeric features\n",
    "numeric_features = df.select_dtypes(include=['float64', 'int64']).columns.tolist()\n",
    "print(f\"Numeric features: {numeric_features}\")"
   ]
  },
  {
   "cell_type": "code",
   "execution_count": 17,
   "metadata": {},
   "outputs": [
    {
     "name": "stdout",
     "output_type": "stream",
     "text": [
      "Artists with more than 1 popular track: \n",
      "Billie Eilish    3\n",
      "Dua Lipa         3\n",
      "Travis Scott     3\n",
      "Justin Bieber    2\n",
      "Harry Styles     2\n",
      "Lewis Capaldi    2\n",
      "Post Malone      2\n",
      "Name: artist, dtype: int64\n"
     ]
    }
   ],
   "source": [
    "# Artists with more than 1 popular track\n",
    "popular_artists = df['artist'].value_counts()\n",
    "artists_with_multiple_tracks = popular_artists[popular_artists > 1]\n",
    "print(f\"Artists with more than 1 popular track: \\n{artists_with_multiple_tracks}\")"
   ]
  },
  {
   "cell_type": "code",
   "execution_count": null,
   "metadata": {},
   "outputs": [
    {
     "data": {
      "text/plain": [
       "Billie Eilish    3\n",
       "Dua Lipa         3\n",
       "Travis Scott     3\n",
       "Name: artist, dtype: int64"
      ]
     },
     "execution_count": 18,
     "metadata": {},
     "output_type": "execute_result"
    }
   ],
   "source": [
    "# Artists with the most number of songs in the top 50\n",
    "most_popular_artists = popular_artists[popular_artists == popular_artists.max()]\n",
    "most_popular_artists"
   ]
  },
  {
   "cell_type": "code",
   "execution_count": 19,
   "metadata": {},
   "outputs": [
    {
     "name": "stdout",
     "output_type": "stream",
     "text": [
      "Total number of artists: 40\n"
     ]
    }
   ],
   "source": [
    "# Total number of unique artists\n",
    "num_artists = df['artist'].nunique()\n",
    "print(f\"Total number of artists: {num_artists}\")"
   ]
  },
  {
   "cell_type": "code",
   "execution_count": 20,
   "metadata": {},
   "outputs": [
    {
     "name": "stdout",
     "output_type": "stream",
     "text": [
      "Albums with more than 1 popular track:\n",
      "Future Nostalgia        3\n",
      "Hollywood's Bleeding    2\n",
      "Fine Line               2\n",
      "Changes                 2\n",
      "Name: album, dtype: int64\n"
     ]
    }
   ],
   "source": [
    "#  Albums with more than 1 popular track\n",
    "albums_tracks = df['album'].value_counts()\n",
    "albums_with_multiple_tracks = albums_tracks[albums_tracks > 1]\n",
    "print(f\"Albums with more than 1 popular track:\\n{albums_with_multiple_tracks}\")"
   ]
  },
  {
   "cell_type": "code",
   "execution_count": 21,
   "metadata": {},
   "outputs": [
    {
     "name": "stdout",
     "output_type": "stream",
     "text": [
      "Total number of albums in the top 50: 45\n"
     ]
    }
   ],
   "source": [
    "# Total number of unique albums\n",
    "num_albums = df['album'].nunique()\n",
    "print(f\"Total number of albums in the top 50: {num_albums}\")"
   ]
  },
  {
   "cell_type": "code",
   "execution_count": 22,
   "metadata": {},
   "outputs": [
    {
     "name": "stdout",
     "output_type": "stream",
     "text": [
      "Tracks with a danceability score above 0.7:\n",
      "                                       track_name  danceability\n",
      "1                                    Dance Monkey         0.825\n",
      "2                                         The Box         0.896\n",
      "3                           Roses - Imanbek Remix         0.785\n",
      "4                                 Don't Start Now         0.793\n",
      "5                    ROCKSTAR (feat. Roddy Ricch)         0.746\n",
      "7                death bed (coffee for your head)         0.726\n",
      "8                                         Falling         0.784\n",
      "10                                           Tusa         0.803\n",
      "13                                Blueberry Faygo         0.774\n",
      "14                       Intentions (feat. Quavo)         0.806\n",
      "15                                   Toosie Slide         0.830\n",
      "17                                         Say So         0.787\n",
      "18                                       Memories         0.764\n",
      "19                     Life Is Good (feat. Drake)         0.795\n",
      "20               Savage Love (Laxed - Siren Beat)         0.767\n",
      "22                                    Breaking Me         0.789\n",
      "24                            everything i wanted         0.704\n",
      "25                                       Señorita         0.759\n",
      "26                                        bad guy         0.701\n",
      "27                WAP (feat. Megan Thee Stallion)         0.935\n",
      "28                                    Sunday Best         0.878\n",
      "29                    Godzilla (feat. Juice WRLD)         0.808\n",
      "31                                 Break My Heart         0.730\n",
      "32                                       Dynamite         0.746\n",
      "33               Supalonely (feat. Gus Dapperton)         0.862\n",
      "37  Sunflower - Spider-Man: Into the Spider-Verse         0.755\n",
      "38                                          Hawái         0.783\n",
      "39                                        Ride It         0.880\n",
      "40                                     goosebumps         0.841\n",
      "41                      RITMO (Bad Boys For Life)         0.723\n",
      "42                                     THE SCOTTS         0.716\n",
      "49                                     SICKO MODE         0.834\n"
     ]
    }
   ],
   "source": [
    "# Tracks with a danceability score above 0.7\n",
    "danceable_tracks = df[df['danceability'] > 0.7][['track_name', 'danceability']]\n",
    "print(f\"Tracks with a danceability score above 0.7:\\n{danceable_tracks}\")"
   ]
  },
  {
   "cell_type": "code",
   "execution_count": 23,
   "metadata": {},
   "outputs": [
    {
     "name": "stdout",
     "output_type": "stream",
     "text": [
      "Tracks with a danceability score below 0.4:\n",
      "              track_name  danceability\n",
      "44  lovely (with Khalid)         0.351\n"
     ]
    }
   ],
   "source": [
    "# Tracks with a danceability score below 0.4\n",
    "low_danceability_tracks = df[df['danceability'] < 0.4][['track_name', 'danceability']]\n",
    "print(f\"Tracks with a danceability score below 0.4:\\n{low_danceability_tracks}\")"
   ]
  },
  {
   "cell_type": "code",
   "execution_count": 24,
   "metadata": {},
   "outputs": [
    {
     "name": "stdout",
     "output_type": "stream",
     "text": [
      "Tracks with loudness above -5:\n",
      "                                       track_name  loudness\n",
      "4                                 Don't Start Now    -4.521\n",
      "6                                Watermelon Sugar    -4.209\n",
      "10                                           Tusa    -3.280\n",
      "12                                        Circles    -3.497\n",
      "16                                  Before You Go    -4.858\n",
      "17                                         Say So    -4.577\n",
      "21                                      Adore You    -3.675\n",
      "23                         Mood (feat. iann dior)    -3.558\n",
      "31                                 Break My Heart    -3.434\n",
      "32                                       Dynamite    -4.410\n",
      "33               Supalonely (feat. Gus Dapperton)    -4.746\n",
      "35                Rain On Me (with Ariana Grande)    -3.764\n",
      "37  Sunflower - Spider-Man: Into the Spider-Verse    -4.368\n",
      "38                                          Hawái    -3.454\n",
      "39                                        Ride It    -4.258\n",
      "40                                     goosebumps    -3.370\n",
      "43                                        Safaera    -4.074\n",
      "48                                       Physical    -3.756\n",
      "49                                     SICKO MODE    -3.714\n"
     ]
    }
   ],
   "source": [
    "# Tracks with loudness above -5\n",
    "loud_tracks = df[df['loudness'] > -5][['track_name', 'loudness']]\n",
    "print(f\"Tracks with loudness above -5:\\n{loud_tracks}\")"
   ]
  },
  {
   "cell_type": "code",
   "execution_count": 25,
   "metadata": {},
   "outputs": [
    {
     "name": "stdout",
     "output_type": "stream",
     "text": [
      "Tracks with loudness below -8:\n",
      "                                        track_name  loudness\n",
      "7                 death bed (coffee for your head)    -8.765\n",
      "8                                          Falling    -8.756\n",
      "15                                    Toosie Slide    -8.820\n",
      "20                Savage Love (Laxed - Siren Beat)    -8.520\n",
      "26                                         bad guy   -10.965\n",
      "36                             HIGHEST IN THE ROOM    -8.764\n",
      "44                            lovely (with Khalid)   -10.109\n",
      "47  If the World Was Ending - feat. Julia Michaels   -10.086\n"
     ]
    }
   ],
   "source": [
    "# Tracks with loudness below -8\n",
    "quiet_tracks = df[df['loudness'] < -8][['track_name', 'loudness']]\n",
    "print(f\"Tracks with loudness below -8:\\n{quiet_tracks}\")"
   ]
  },
  {
   "cell_type": "code",
   "execution_count": 26,
   "metadata": {},
   "outputs": [
    {
     "name": "stdout",
     "output_type": "stream",
     "text": [
      "Longest track:\n",
      "track_name     SICKO MODE\n",
      "duration_ms      312820.0\n",
      "Name: 49, dtype: object\n"
     ]
    }
   ],
   "source": [
    "# Longest track\n",
    "longest_track = df.loc[df['duration_ms'].idxmax()][['track_name', 'duration_ms']]\n",
    "print(f\"Longest track:\\n{longest_track}\")"
   ]
  },
  {
   "cell_type": "code",
   "execution_count": 27,
   "metadata": {},
   "outputs": [
    {
     "name": "stdout",
     "output_type": "stream",
     "text": [
      "Shortest track:\n",
      "track_name     Mood (feat. iann dior)\n",
      "duration_ms                  140526.0\n",
      "Name: 23, dtype: object\n"
     ]
    }
   ],
   "source": [
    "# Shortest track\n",
    "shortest_track = df.loc[df['duration_ms'].idxmin()][['track_name', 'duration_ms']]\n",
    "print(f\"Shortest track:\\n{shortest_track}\")"
   ]
  },
  {
   "cell_type": "code",
   "execution_count": 28,
   "metadata": {},
   "outputs": [
    {
     "name": "stdout",
     "output_type": "stream",
     "text": [
      "Most popular genre: Pop with 14 songs\n"
     ]
    }
   ],
   "source": [
    "# Most popular genre\n",
    "most_popular_genre = df['genre'].value_counts().idxmax()\n",
    "most_popular_genre_count = df['genre'].value_counts().max()\n",
    "print(f\"Most popular genre: {most_popular_genre} with {most_popular_genre_count} songs\")"
   ]
  },
  {
   "cell_type": "code",
   "execution_count": 29,
   "metadata": {},
   "outputs": [
    {
     "name": "stdout",
     "output_type": "stream",
     "text": [
      "Genres with just one song in the top 50:\n",
      "Nu-disco                              1\n",
      "R&B/Hip-Hop alternative               1\n",
      "Pop/Soft Rock                         1\n",
      "Pop rap                               1\n",
      "Hip-Hop/Trap                          1\n",
      "Dance-pop/Disco                       1\n",
      "Disco-pop                             1\n",
      "Dreampop/Hip-Hop/R&B                  1\n",
      "Alternative/reggaeton/experimental    1\n",
      "Chamber pop                           1\n",
      "Name: genre, dtype: int64\n"
     ]
    }
   ],
   "source": [
    "# Genres with just one song in the top 50\n",
    "genres_with_one_song = df['genre'].value_counts()[df['genre'].value_counts() == 1]\n",
    "print(f\"Genres with just one song in the top 50:\\n{genres_with_one_song}\")"
   ]
  },
  {
   "cell_type": "code",
   "execution_count": 30,
   "metadata": {},
   "outputs": [
    {
     "name": "stdout",
     "output_type": "stream",
     "text": [
      "Total number of genres in the top 50: 16\n"
     ]
    }
   ],
   "source": [
    "# Total number of genres in the top 50\n",
    "num_genres = df['genre'].nunique()\n",
    "print(f\"Total number of genres in the top 50: {num_genres}\")"
   ]
  },
  {
   "cell_type": "code",
   "execution_count": 50,
   "metadata": {},
   "outputs": [
    {
     "data": {
      "text/plain": [
       "Text(0.5, 1.0, 'Correlation Matrix')"
      ]
     },
     "execution_count": 50,
     "metadata": {},
     "output_type": "execute_result"
    },
    {
     "data": {
      "image/png": "[encoded data removed]",
      "text/plain": [
       "<Figure size 864x720 with 2 Axes>"
      ]
     },
     "metadata": {
      "needs_background": "light"
     },
     "output_type": "display_data"
    }
   ],
   "source": [
    "corr_matrix = df.corr()\n",
    "plt.figure(figsize=(12, 10))\n",
    "sns.heatmap(corr_matrix, annot=True, cmap='crest',)\n",
    "plt.title('Correlation Matrix') "
   ]
  },
  {
   "cell_type": "code",
   "execution_count": 32,
   "metadata": {},
   "outputs": [
    {
     "name": "stdout",
     "output_type": "stream",
     "text": [
      "Strongly positively correlated features:\n",
      "energy    loudness    0.738966\n",
      "loudness  energy      0.738966\n",
      "dtype: float64\n"
     ]
    }
   ],
   "source": [
    "# Identify strongly positively correlated features\n",
    "strongly_positive_corr = corr_matrix[(corr_matrix > 0.7) & (corr_matrix != 1)].stack()\n",
    "print(f\"Strongly positively correlated features:\\n{strongly_positive_corr}\")"
   ]
  },
  {
   "cell_type": "code",
   "execution_count": 33,
   "metadata": {},
   "outputs": [
    {
     "name": "stdout",
     "output_type": "stream",
     "text": [
      "Strongly negatively correlated features:\n",
      "Series([], dtype: float64)\n"
     ]
    }
   ],
   "source": [
    "# Identify strongly negatively correlated features\n",
    "strongly_negative_corr = corr_matrix[(corr_matrix < -0.7)].stack()\n",
    "print(f\"Strongly negatively correlated features:\\n{strongly_negative_corr}\")"
   ]
  },
  {
   "cell_type": "code",
   "execution_count": 34,
   "metadata": {},
   "outputs": [
    {
     "name": "stdout",
     "output_type": "stream",
     "text": [
      "Features with no correlation:\n",
      "energy            danceability        0.113751\n",
      "                  key                 0.115060\n",
      "                  speechiness        -0.019908\n",
      "                  instrumentalness   -0.169410\n",
      "                  liveness            0.169683\n",
      "                  tempo               0.037103\n",
      "                  duration_ms         0.054491\n",
      "danceability      energy              0.113751\n",
      "                  key                 0.139920\n",
      "                  loudness            0.185542\n",
      "                  speechiness         0.145392\n",
      "                  instrumentalness   -0.016775\n",
      "                  liveness           -0.207171\n",
      "                  tempo               0.182334\n",
      "                  duration_ms        -0.027739\n",
      "key               energy              0.115060\n",
      "                  danceability        0.139920\n",
      "                  loudness            0.023680\n",
      "                  acousticness       -0.255990\n",
      "                  speechiness        -0.057747\n",
      "                  instrumentalness    0.036477\n",
      "                  liveness            0.114835\n",
      "                  valence             0.212365\n",
      "                  tempo               0.015281\n",
      "                  duration_ms        -0.031341\n",
      "loudness          danceability        0.185542\n",
      "                  key                 0.023680\n",
      "                  acousticness       -0.256460\n",
      "                  speechiness        -0.194827\n",
      "                  liveness            0.040361\n",
      "                  tempo               0.097462\n",
      "                  duration_ms         0.166483\n",
      "acousticness      key                -0.255990\n",
      "                  loudness           -0.256460\n",
      "                  speechiness        -0.136725\n",
      "                  instrumentalness    0.079445\n",
      "                  liveness           -0.183392\n",
      "                  valence            -0.213273\n",
      "                  tempo              -0.185593\n",
      "                  duration_ms        -0.042446\n",
      "speechiness       energy             -0.019908\n",
      "                  danceability        0.145392\n",
      "                  key                -0.057747\n",
      "                  loudness           -0.194827\n",
      "                  acousticness       -0.136725\n",
      "                  liveness            0.005803\n",
      "                  valence             0.105435\n",
      "                  tempo               0.079927\n",
      "instrumentalness  energy             -0.169410\n",
      "                  danceability       -0.016775\n",
      "                  key                 0.036477\n",
      "                  acousticness        0.079445\n",
      "                  liveness           -0.075666\n",
      "                  valence             0.003271\n",
      "                  tempo               0.091979\n",
      "                  duration_ms        -0.027138\n",
      "liveness          energy              0.169683\n",
      "                  danceability       -0.207171\n",
      "                  key                 0.114835\n",
      "                  loudness            0.040361\n",
      "                  acousticness       -0.183392\n",
      "                  speechiness         0.005803\n",
      "                  instrumentalness   -0.075666\n",
      "                  valence             0.067686\n",
      "                  tempo               0.044660\n",
      "                  duration_ms        -0.112782\n",
      "valence           key                 0.212365\n",
      "                  acousticness       -0.213273\n",
      "                  speechiness         0.105435\n",
      "                  instrumentalness    0.003271\n",
      "                  liveness            0.067686\n",
      "                  tempo              -0.067123\n",
      "                  duration_ms        -0.006055\n",
      "tempo             energy              0.037103\n",
      "                  danceability        0.182334\n",
      "                  key                 0.015281\n",
      "                  loudness            0.097462\n",
      "                  acousticness       -0.185593\n",
      "                  speechiness         0.079927\n",
      "                  instrumentalness    0.091979\n",
      "                  liveness            0.044660\n",
      "                  valence            -0.067123\n",
      "                  duration_ms         0.133786\n",
      "duration_ms       energy              0.054491\n",
      "                  danceability       -0.027739\n",
      "                  key                -0.031341\n",
      "                  loudness            0.166483\n",
      "                  acousticness       -0.042446\n",
      "                  instrumentalness   -0.027138\n",
      "                  liveness           -0.112782\n",
      "                  valence            -0.006055\n",
      "                  tempo               0.133786\n",
      "dtype: float64\n"
     ]
    }
   ],
   "source": [
    "# Identify features with no correlation\n",
    "no_corr = corr_matrix[(corr_matrix.abs() < 0.3) & (corr_matrix != 0)].stack()\n",
    "print(f\"Features with no correlation:\\n{no_corr}\")"
   ]
  },
  {
   "cell_type": "code",
   "execution_count": 35,
   "metadata": {},
   "outputs": [],
   "source": [
    "# Filter relevant genres\n",
    "relevant_genres = [\"Pop\", \"Hip-Hop/Rap\", \"Dance/Electronic\", \"Alternative/Indie\"]\n",
    "\n",
    "# filter the dataframe for each music characteristic\n",
    "genre_danceability = df[df['genre'].isin(relevant_genres)].groupby('genre')['danceability']\n",
    "genre_loudness = df[df['genre'].isin(relevant_genres)].groupby('genre')['loudness']\n",
    "genre_acousticness = df[df['genre'].isin(relevant_genres)].groupby('genre')['acousticness']\n",
    "\n",
    "# Calculate comparison statistics\n",
    "danceability_stats = genre_danceability.agg(['mean', 'median', 'min', 'max', 'std'])\n",
    "loudness_stats = genre_loudness.agg(['mean', 'median', 'min', 'max', 'std'])\n",
    "acousticness_stats = genre_acousticness.agg(['mean', 'median', 'min', 'max', 'std'])"
   ]
  },
  {
   "cell_type": "code",
   "execution_count": 36,
   "metadata": {},
   "outputs": [
    {
     "name": "stdout",
     "output_type": "stream",
     "text": [
      "Danceability Score Comparison:\n",
      "                       mean  median    min    max       std\n",
      "genre                                                      \n",
      "Alternative/Indie  0.661750   0.663  0.459  0.862  0.211107\n",
      "Dance/Electronic   0.755000   0.785  0.647  0.880  0.094744\n",
      "Hip-Hop/Rap        0.765538   0.774  0.598  0.896  0.085470\n",
      "Pop                0.677571   0.690  0.464  0.806  0.109853\n"
     ]
    }
   ],
   "source": [
    "print(\"Danceability Score Comparison:\")\n",
    "print(danceability_stats)"
   ]
  },
  {
   "cell_type": "code",
   "execution_count": 37,
   "metadata": {},
   "outputs": [
    {
     "name": "stdout",
     "output_type": "stream",
     "text": [
      "Loudness Score Comparison:\n",
      "                       mean   median     min    max       std\n",
      "genre                                                        \n",
      "Alternative/Indie -5.421000 -5.26850  -6.401 -4.746  0.774502\n",
      "Dance/Electronic  -5.338000 -5.45700  -7.567 -3.756  1.479047\n",
      "Hip-Hop/Rap       -6.917846 -7.64800  -8.820 -3.370  1.891808\n",
      "Pop               -5.902536 -6.64075 -10.086 -3.280  1.959118\n"
     ]
    }
   ],
   "source": [
    "print(\"Loudness Score Comparison:\")\n",
    "print(loudness_stats)"
   ]
  },
  {
   "cell_type": "code",
   "execution_count": 38,
   "metadata": {},
   "outputs": [
    {
     "name": "stdout",
     "output_type": "stream",
     "text": [
      "Acousticness  Score Comparison:\n",
      "                       mean  median      min    max       std\n",
      "genre                                                        \n",
      "Alternative/Indie  0.583500  0.6460  0.29100  0.751  0.204086\n",
      "Dance/Electronic   0.099440  0.0686  0.01370  0.223  0.095828\n",
      "Hip-Hop/Rap        0.143664  0.1450  0.00513  0.289  0.090542\n",
      "Pop                0.193271  0.2410  0.02100  0.349  0.123472\n"
     ]
    }
   ],
   "source": [
    "print(\"Acousticness  Score Comparison:\")\n",
    "print(acousticness_stats)"
   ]
  },
  {
   "cell_type": "markdown",
   "metadata": {},
   "source": [
    "## TL;DR\n",
    "\n",
    "Danceability\n",
    "* Alternative/Indie has the lowest danceability score, with significant variability, indicating the genre’s primary focus is not on creating tracks suited for dancing.\n",
    "* Dance/Electronic and Hip-Hop/Rap both excel in danceability, with consistently high scores. These genres focus on creating rhythmically engaging tracks that are ideal for dancing.\n",
    "* Pop falls somewhere in between, with moderate danceability and some variability, showcasing its versatility in catering to both danceable hits and more relaxed, melodic tracks.\n",
    "\n",
    "Loudness\n",
    "* Alternative/Indie maintains a consistent volume level with moderate loudness, reflecting a balanced production style that avoids extremes.\n",
    "* Dance/Electronic is slightly louder on average, with some variability, matching its energetic, club-friendly vibe.\n",
    "* Hip-Hop/Rap is the quietest genre overall but shows significant loudness variability, likely catering to diverse production styles within the genre.\n",
    "* Pop exhibits the widest range of loudness, reflecting its adaptability and appeal to a broad audience by balancing quieter, emotional tracks with loud, upbeat hits.\n",
    "\n",
    "Acousticness\n",
    "* Alternative/Indie stands out for its acoustic nature, while Dance/Electronic and Hip-Hop/Rap rely heavily on synthetic elements.\n",
    "* Pop falls in between, showcasing moderate acoustic influence with some variability to cater to diverse tastes.\n"
   ]
  },
  {
   "cell_type": "markdown",
   "metadata": {},
   "source": [
    "## Result Interpretation\n",
    "\n",
    "### Danceability\n",
    "\n",
    "* __Alternative/Indie:__ This genre has the lowest average danceability score (0.662), suggesting its tracks are generally less suited for dancing. The high standard deviation (0.211) and broad range (from 0.459 to 0.862) indicate significant variation in danceability, reflecting a lesser emphasis on producing consistently danceable tracks.\n",
    "\n",
    "* __Dance/Electronic:__ With an average danceability score of 0.755, this genre ranks second for producing dance-friendly music. Its narrow range (0.647 to 0.880) and low standard deviation (0.094) highlight consistent danceability across tracks.\n",
    "\n",
    "* __Hip-Hop/Rap:__ This genre has the highest average danceability score (0.766), making it the most dance-friendly genre. The narrow range (0.598 to 0.896) and low standard deviation (0.085) shows that its tracks maintain a consistent focus on danceability.\n",
    "\n",
    "* __Pop:__ Pop tracks have a relatively low average danceability score (0.678), indicating they are less danceable on average. The higher standard deviation (0.109) and wider range (0.464 to 0.806) suggest greater variability in danceability, reflecting a broader diversity in musical styles.\n",
    "\n",
    "### Loudness\n",
    "\n",
    "* __Alternative/Indie:__ This genre has a moderate average loudness of -5.42 dB, with a relatively consistent sound level as indicated by a low standard deviation (0.77). The range is narrow, with values spanning from -6.40 dB to -4.75 dB, showing that tracks within this genre maintain a steady volume profile.\n",
    "\n",
    "* __Dance/Electronic:__ With an average loudness of -5.34 dB, this genre is slightly louder on average compared to others. However, it has a wider range (-7.57 dB to -3.76 dB) and a higher standard deviation (1.48), indicating that some tracks are significantly louder or quieter, adding variety to the genre's overall loudness profile.\n",
    "\n",
    "* __Hip-Hop/Rap:__ This genre has the lowest average loudness (-6.92 dB), suggesting a quieter overall mix compared to other genres. The wide range (-8.82 dB to -3.37 dB) and high standard deviation (1.89) indicate substantial variability in loudness, with some tracks being relatively quiet and others quite loud.\n",
    "\n",
    "* __Pop:__ Pop tracks exhibit an average loudness of -5.90 dB, falling between Alternative/Indie and Hip-Hop/Rap. However, it has the largest range (-10.09 dB to -3.28 dB) and the highest standard deviation (1.96), reflecting a high degree of variation in loudness, from very quiet to exceptionally loud tracks, likely catering to a diverse audience.\n",
    "\n",
    "### Acousticness\n",
    "\n",
    "* __Alternative/Indie:__ This genre has the highest average acousticness score (0.584), with a median close to the mean (0.646), suggesting a strong focus on acoustic elements. The relatively narrow range (0.291 to 0.751) and moderate standard deviation (0.204) indicate some variability, but most tracks lean towards being more acoustic in nature.\n",
    "\n",
    "* __Dance/Electronic:__ With an average acousticness score of 0.099, this genre strongly emphasizes synthetic or electronic sounds, as reflected in its very low scores. The small range (0.014 to 0.223) and low standard deviation (0.096) suggest that tracks in this genre are consistently non-acoustic.\n",
    "\n",
    "* __Hip-Hop/Rap:__ This genre has a slightly higher average acousticness score (0.144) compared to Dance/Electronic, but it still leans heavily toward non-acoustic production. The narrow range (0.005 to 0.289) and low standard deviation (0.091) show limited variability, with most tracks maintaining a low acoustic presence.\n",
    "\n",
    "* __Pop:__ Pop tracks have an average acousticness score of 0.193, higher than Dance/Electronic and Hip-Hop/Rap but still predominantly non-acoustic. The range (0.021 to 0.349) and slightly higher standard deviation (0.123) indicate moderate variability, reflecting the genre’s ability to blend acoustic and non-acoustic styles."
   ]
  },
  {
   "cell_type": "markdown",
   "metadata": {},
   "source": [
    "## Improvements to Analysis\n",
    "\n",
    "1. If data from multiple years is available, analyze trends and changes in musical styles over time.\n",
    "2. Explore other features like tempo, valence, and instrumentalness to gain deeper insights into the musical characteristics of different genres.\n"
   ]
  },
  {
   "cell_type": "markdown",
   "metadata": {},
   "source": []
  }
 ],
 "metadata": {
  "kernelspec": {
   "display_name": "Python 3",
   "language": "python",
   "name": "python3"
  },
  "language_info": {
   "codemirror_mode": {
    "name": "ipython",
    "version": 3
   },
   "file_extension": ".py",
   "mimetype": "text/x-python",
   "name": "python",
   "nbconvert_exporter": "python",
   "pygments_lexer": "ipython3",
   "version": "3.9.7"
  }
 },
 "nbformat": 4,
 "nbformat_minor": 2
}
